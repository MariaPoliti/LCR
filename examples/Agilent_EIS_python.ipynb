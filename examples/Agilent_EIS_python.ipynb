{
 "cells": [
  {
   "cell_type": "code",
   "execution_count": 1,
   "metadata": {},
   "outputs": [],
   "source": [
    "import pyvisa\n",
    "import numpy as np\n",
    "import pandas as pd\n",
    "import os\n",
    "import csv\n",
    "import time"
   ]
  },
  {
   "cell_type": "code",
   "execution_count": 1,
   "metadata": {
    "collapsed": true
   },
   "outputs": [
    {
     "ename": "ModuleNotFoundError",
     "evalue": "No module named 'LCR'",
     "output_type": "error",
     "traceback": [
      "\u001b[1;31m---------------------------------------------------------------------------\u001b[0m",
      "\u001b[1;31mModuleNotFoundError\u001b[0m                       Traceback (most recent call last)",
      "\u001b[1;32m<ipython-input-1-c5b10655bd96>\u001b[0m in \u001b[0;36m<module>\u001b[1;34m\u001b[0m\n\u001b[1;32m----> 1\u001b[1;33m \u001b[1;32mfrom\u001b[0m \u001b[0mLCR\u001b[0m \u001b[1;32mimport\u001b[0m \u001b[0mrun\u001b[0m\u001b[1;33m,\u001b[0m \u001b[0mcorrections\u001b[0m\u001b[1;33m,\u001b[0m \u001b[0mpost_processing\u001b[0m\u001b[1;33m,\u001b[0m \u001b[0mfrequency\u001b[0m\u001b[1;33m\u001b[0m\u001b[1;33m\u001b[0m\u001b[0m\n\u001b[0m",
      "\u001b[1;31mModuleNotFoundError\u001b[0m: No module named 'LCR'"
     ]
    }
   ],
   "source": [
    "from LCR import run, corrections, post_processing, frequency"
   ]
  },
  {
   "cell_type": "markdown",
   "metadata": {},
   "source": [
    "### Fil out the cell below with the information of the specific run\n"
   ]
  },
  {
   "cell_type": "markdown",
   "metadata": {},
   "source": [
    "#### Define all the run variables in the cell below"
   ]
  },
  {
   "cell_type": "code",
   "execution_count": 11,
   "metadata": {
    "scrolled": false
   },
   "outputs": [],
   "source": [
    "# Experimental Conditions\n",
    "function= 'ZTR'\n",
    "volt= 0.01\n",
    "\n",
    "# Frequency sweep\n",
    "freq_list= frequency.freq_list(2E+5, 20, pts_per_decade=10)\n",
    "\n",
    "# File information to use as the filename\n",
    "sample = 'standard' \n",
    "temp =  '20C'\n",
    "dist = '1mm'\n",
    "# the save location. \n",
    "save_location = './EIS_Rheometer/'\n",
    "comment = 'testing comment section'"
   ]
  },
  {
   "cell_type": "markdown",
   "metadata": {},
   "source": [
    "### Run these cells to connect the instrument and interface with in using the code "
   ]
  },
  {
   "cell_type": "code",
   "execution_count": 10,
   "metadata": {},
   "outputs": [
    {
     "name": "stdout",
     "output_type": "stream",
     "text": [
      "The is/are \u001b[1m1\u001b[0m insturment(s) conencted to this device.\n",
      "\n",
      "The selected instrument is: \u001b[1m Agilent Technologies,E4980A,MY46205278,A.02.20\n",
      "\n"
     ]
    }
   ],
   "source": [
    "LCR = run.instrument_conenction()"
   ]
  },
  {
   "cell_type": "markdown",
   "metadata": {},
   "source": [
    "### Then run all these cells without any additional change"
   ]
  },
  {
   "cell_type": "code",
   "execution_count": 14,
   "metadata": {},
   "outputs": [
    {
     "name": "stdout",
     "output_type": "stream",
     "text": [
      "The file was correctly saved\n"
     ]
    }
   ],
   "source": [
    "EIS_measurements = run.measurement(LCR, function, freq_list, input_signal= 'voltage', amplitude= volt)\n",
    "\n",
    "name = post_processing.gen_filename(sample, dist, temp)  \n",
    "\n",
    "post_processing.write_file(freq_list, EIS_measurements, name, save_location, comment)"
   ]
  }
 ],
 "metadata": {
  "kernelspec": {
   "display_name": "LCR",
   "language": "python",
   "name": "lcr"
  },
  "language_info": {
   "codemirror_mode": {
    "name": "ipython",
    "version": 3
   },
   "file_extension": ".py",
   "mimetype": "text/x-python",
   "name": "python",
   "nbconvert_exporter": "python",
   "pygments_lexer": "ipython3",
   "version": "3.8.6"
  }
 },
 "nbformat": 4,
 "nbformat_minor": 4
}
